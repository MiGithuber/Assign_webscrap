{
 "cells": [
  {
   "cell_type": "markdown",
   "id": "ee7a54a4-1cb3-4d65-a9c4-a9d9e39a584f",
   "metadata": {},
   "source": [
    "#1"
   ]
  },
  {
   "cell_type": "raw",
   "id": "79571eab-9fe2-4d71-95b6-fad034a97c73",
   "metadata": {},
   "source": [
    "a) & b): Web scraping is used in a variety of digital businesses that rely on data harvesting. Legitimate use cases include: Search engine bots crawling a site, analyzing its content and then ranking it. Price comparison sites deploying bots to auto-fetch prices and product descriptions for allied seller websites.\n",
    "c) News, journalism, and reputation monitoring."
   ]
  },
  {
   "cell_type": "markdown",
   "id": "5f83c2a4-0239-4da1-9e46-b390e94e2855",
   "metadata": {},
   "source": [
    "#2"
   ]
  },
  {
   "cell_type": "raw",
   "id": "18b6be97-25f1-406b-a4a1-a9149c40bb60",
   "metadata": {},
   "source": [
    "Data Scraping Technique\n",
    "HTML Parsing. HTML parsing involves the use of JavaScript to target a linear or nested HTML page. \n",
    "DOM Parsing. \n",
    "Vertical Aggregation. \n",
    "XPath. \n",
    "Google Sheets. \n",
    "Rate Limit User Requests. \n",
    "Mitigate High-Volume Requesters with CAPTCHAs.\n",
    "Regularly Modify HTML Markup."
   ]
  },
  {
   "cell_type": "markdown",
   "id": "7417a650-9a91-48cc-b66b-164c5b636d4a",
   "metadata": {},
   "source": [
    "#3"
   ]
  },
  {
   "cell_type": "markdown",
   "id": "b12b4ef6-30b9-44a2-affb-9b5ad80664db",
   "metadata": {},
   "source": [
    "Beautiful Soup is a Python package for parsing HTML and XML documents (including having malformed markup, i.e. non-closed tags, so named after tag soup). It creates a parse tree for parsed pages that can be used to extract data from HTML, which is useful for web scraping."
   ]
  },
  {
   "cell_type": "markdown",
   "id": "7dd3b663-974e-467b-bac3-ac479b1f1c3e",
   "metadata": {},
   "source": [
    "#4"
   ]
  },
  {
   "cell_type": "markdown",
   "id": "d52e8b79-bbed-47c9-9ea1-7281c08d552a",
   "metadata": {},
   "source": [
    "Flask is a lightweight framework to build websites. We'll use this to parse our collected data and display it as HTML in a new HTML file. The requests module allows us to send http requests to the website we want to scrape. The first line imports the Flask class and the render_template method from the flask library."
   ]
  },
  {
   "cell_type": "markdown",
   "id": "7b95b1d5-5291-4adc-8eea-b2afab96f6eb",
   "metadata": {},
   "source": [
    "#5"
   ]
  },
  {
   "cell_type": "code",
   "execution_count": null,
   "id": "e64f4bb6-04c8-4d5d-93cb-4cd5dffb7a07",
   "metadata": {},
   "outputs": [],
   "source": []
  }
 ],
 "metadata": {
  "kernelspec": {
   "display_name": "Python 3 (ipykernel)",
   "language": "python",
   "name": "python3"
  },
  "language_info": {
   "codemirror_mode": {
    "name": "ipython",
    "version": 3
   },
   "file_extension": ".py",
   "mimetype": "text/x-python",
   "name": "python",
   "nbconvert_exporter": "python",
   "pygments_lexer": "ipython3",
   "version": "3.10.8"
  }
 },
 "nbformat": 4,
 "nbformat_minor": 5
}
